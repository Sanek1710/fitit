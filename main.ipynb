{
 "cells": [
  {
   "cell_type": "code",
   "execution_count": 1,
   "id": "c7f036fa",
   "metadata": {},
   "outputs": [],
   "source": [
    "import sys\n",
    "import numpy as np\n",
    "from PIL import Image\n",
    "from collections import Counter\n",
    "\n",
    "def scale_image(self, scale):\n",
    "  w, h = self.size\n",
    "  return self.resize((int(scale*w),int(scale*h)), Image.Resampling.NEAREST)\n",
    "setattr(Image.Image, \"scale\", scale_image)\n",
    "\n",
    "\n",
    "HEAD_VAL = 2\n",
    "NECK_VAL = 1\n",
    "POLE_VAL = 6\n",
    "HOLE_VAL = 4\n",
    "EMPTY_VAL = 0\n",
    "\n",
    "\n",
    "def compile(shape: np.ndarray):\n",
    "  from scipy.ndimage import convolve\n",
    "  KERNEL = np.array([[0, 1, 0],\n",
    "                     [1, 0, 1],\n",
    "                     [0, 1, 0]])\n",
    "  nneighbours = convolve(\n",
    "      shape.astype(bool).astype(int),\n",
    "      KERNEL, mode='constant', cval=0)\n",
    "\n",
    "  poles = ((nneighbours == 1) & (shape == 2))\n",
    "  holes = ((nneighbours == 3) & (shape == 0))\n",
    "\n",
    "  return shape | (poles << 2) | (holes << 2)\n",
    "\n",
    "\n",
    "def count_holes(shape: np.ndarray):\n",
    "  from scipy.ndimage import binary_fill_holes\n",
    "  return (shape.astype(bool) != binary_fill_holes(shape)).sum()\n",
    "\n",
    "\n",
    "def print_shape(shape: np.ndarray, file = sys.stdout):\n",
    "  for row in shape:\n",
    "    for cell in row:\n",
    "      print(cell if cell != 0 else ' ', end=' ', file=file)\n",
    "    print(file=file)\n",
    "\n",
    "\n",
    "def shrink_shape(shape: np.ndarray):\n",
    "  h = shape.any(axis=1).sum()\n",
    "  w = shape.T.any(axis=1).sum()\n",
    "  side = max(h, w) + 1\n",
    "  return shape[:side, :side]\n",
    "\n",
    "\n",
    "def read_shapes(filename: str, compile=False):\n",
    "  COLOR_HEAD = (0, 0, 0, 255)\n",
    "  COLOR_NECK = (63, 63, 116, 255)\n",
    "  COLOR_POLE = (172, 50, 50, 255)\n",
    "  COLOR_HOLE = (75, 105, 47, 255)\n",
    "  COLOR_EMPTY = (0, 0, 0, 0)\n",
    "\n",
    "  im = Image.open(filename)\n",
    "  arr = np.asarray(im)\n",
    "  heads_mask = (arr == COLOR_HEAD).all(axis=2)\n",
    "  necks_mask = (arr == COLOR_NECK).all(axis=2)\n",
    "  poles_mask = (arr == COLOR_POLE).all(axis=2)\n",
    "  holes_mask = (arr == COLOR_HOLE).all(axis=2)\n",
    "\n",
    "  res = np.zeros(arr.shape[:2], dtype=int)\n",
    "\n",
    "  res[heads_mask] = HEAD_VAL\n",
    "  res[necks_mask] = NECK_VAL\n",
    "\n",
    "  res[poles_mask] = POLE_VAL if compile else HEAD_VAL\n",
    "  res[holes_mask] = HOLE_VAL if compile else EMPTY_VAL\n",
    "\n",
    "  BLOCK_SIZE = 16\n",
    "  blocks = res.reshape(res.shape[0] // BLOCK_SIZE, BLOCK_SIZE,\n",
    "                       res.shape[1] // BLOCK_SIZE, BLOCK_SIZE) \\\n",
    "      .transpose(0, 2, 1, 3)\n",
    "  shapes = [\n",
    "      shrink_shape(chunk)\n",
    "      for row in blocks\n",
    "      for chunk in row if chunk.any()\n",
    "  ]\n",
    "  shapes.sort(key=lambda x: (x.size, x.astype(bool).sum()), reverse=True)\n",
    "  return shapes\n",
    "\n",
    "def idshape_img(shape):\n",
    "  def get_color(idx):\n",
    "    if idx == 0: return (0, 0, 0, 0)\n",
    "    idx = (idx*6 % 63)\n",
    "    r, g, b = ((idx >> 4) & 0x3), ((idx >> 2) & 0x3), (idx & 0x3)\n",
    "    r = 48*r + 32\n",
    "    g = 48*g + 48\n",
    "    b = 48*b + 64\n",
    "    return r, g, b, 255\n",
    "  arr = np.array([[get_color(cell) for cell in row] \n",
    "                  for row in shape], dtype=np.uint8)\n",
    "  return Image.fromarray(arr) # pyright: ignore[reportCallIssue]\n",
    "\n",
    "\n",
    "def print_image(im):\n",
    "  def ansi_rgb(rgba):\n",
    "    return \"\\x1b[38;2;{};{};{}m\".format(*rgba[:3])\n",
    "  for row in np.asarray(im):\n",
    "    for cell in row:\n",
    "      if not cell[:3].any():\n",
    "        print(\"  \", end=\"\")\n",
    "      else:\n",
    "        print(f\"{ansi_rgb(cell)}[]\", end=\"\")\n",
    "    print()\n",
    "  print(\"\\x1b[0m\")\n",
    "\n",
    "\n",
    "def shape_mask(shape: np.ndarray):\n",
    "  return (shape & 0x3).astype(bool).astype(int)\n",
    "\n",
    "\n",
    "\n",
    "def get_all_edges(shapes):\n",
    "  from tqdm import tqdm\n",
    "  shapes = [compile(shape) for shape in shapes]\n",
    "\n",
    "  max_size = max(map(len, shapes))\n",
    "\n",
    "  index_iter = tqdm(range(len(shapes)), total = len(shapes), ncols=64)\n",
    "\n",
    "  edges = []\n",
    "  for s1 in index_iter:\n",
    "    shape_hole = np.pad(shapes[s1], pad_width=max_size, mode='constant',\n",
    "                        constant_values=0)\n",
    "    # print_shape(shape_hole)\n",
    "    shape_hole_mask = shape_mask(shape_hole)\n",
    "    x, y = np.where(shape_hole == HOLE_VAL)\n",
    "    for xi, yi in zip(x, y):\n",
    "\n",
    "      for s2 in range(len(shapes)):\n",
    "        if s2 == s1:\n",
    "          continue\n",
    "        shape_con = shapes[s2]\n",
    "\n",
    "        for i in range(4):\n",
    "          shape_conn_mask = shape_mask(shape_con)\n",
    "          xc, yc = np.where(shape_con == POLE_VAL)\n",
    "\n",
    "          for xci, yci in zip(xc, yc):\n",
    "            xx = xi - xci\n",
    "            yy = yi - yci\n",
    "\n",
    "            ss = np.array(shape_hole_mask)\n",
    "            ss[xx:xx+len(shape_conn_mask), yy:yy+len(shape_conn_mask)] += \\\n",
    "                2*shape_conn_mask\n",
    "\n",
    "            if (ss != 3).all():\n",
    "              nholes = count_holes(ss)\n",
    "              if nholes and nholes < 9000:\n",
    "                continue\n",
    "\n",
    "              edges.append(((s1, (xi - max_size, yi - max_size)), (s2, (xci, yci), i)))\n",
    "\n",
    "          shape_con = np.rot90(shape_con)\n",
    "\n",
    "  return edges\n",
    "\n",
    "def trim_square(matrix: np.ndarray):\n",
    "  matrix = matrix[~np.all(matrix == 0, axis=1)].T\n",
    "  matrix = matrix[~np.all(matrix == 0, axis=1)].T\n",
    "  rows, cols = matrix.shape\n",
    "\n",
    "  max_dim = max(rows, cols)\n",
    "  pad_rows = max_dim - rows\n",
    "  pad_cols = max_dim - cols\n",
    "\n",
    "  return np.pad(matrix, ((0, pad_rows), (0, pad_cols)), \n",
    "                         mode='constant', constant_values=0)\n",
    "\n",
    "def join(shapes, edge):\n",
    "  ((s1, (xi, yi)), (s2, (xci, yci), r2)) = edge\n",
    "  shape_con = shapes[s2]\n",
    "  max_size = len(shape_con)\n",
    "\n",
    "  shape_hole = np.pad(shapes[s1], pad_width=max_size, mode='constant',\n",
    "                      constant_values=0)\n",
    "  shape_hole_mask = shape_mask(shape_hole)\n",
    "  xi += max_size\n",
    "  yi += max_size\n",
    "\n",
    "  for _ in range(r2):\n",
    "    shape_con = np.rot90(shape_con)\n",
    "  shape_conn_mask = shape_mask(shape_con)\n",
    "  xx = xi - xci\n",
    "  yy = yi - yci\n",
    "\n",
    "  ss = shape_hole\n",
    "  ss[xx:xx+len(shape_con), yy:yy+len(shape_con)] += shape_con\n",
    "\n",
    "  return trim_square(ss)\n",
    "\n",
    "def join_all(shapes, edges):\n",
    "  added = set()\n",
    "  new_shapes = []\n",
    "  used_edges = []\n",
    "  for n1, n2 in edges:\n",
    "    if n1[0] in added or n2[0] in added:\n",
    "      continue\n",
    "    added.add(n1[0])\n",
    "    added.add(n2[0])\n",
    "    new_shapes.append(join(shapes, (n1, n2)))\n",
    "    used_edges.append((n1, n2))\n",
    "\n",
    "  new_shapes.extend(shapes[i]\n",
    "                    for i, shape in enumerate(shapes) \n",
    "                    if i not in added\n",
    "  )\n",
    "  return new_shapes, used_edges\n"
   ]
  },
  {
   "cell_type": "code",
   "execution_count": 5,
   "id": "1c9fd358",
   "metadata": {},
   "outputs": [
    {
     "data": {
      "image/png": "[encoded data removed]",
      "text/plain": [
       "<PIL.Image.Image image mode=RGBA size=104x104>"
      ]
     },
     "metadata": {},
     "output_type": "display_data"
    },
    {
     "data": {
      "image/png": "[encoded data removed]",
      "text/plain": [
       "<PIL.Image.Image image mode=RGBA size=152x152>"
      ]
     },
     "metadata": {},
     "output_type": "display_data"
    },
    {
     "name": "stderr",
     "output_type": "stream",
     "text": [
      "100%|███████████████████████████| 65/65 [00:06<00:00, 10.32it/s]\n"
     ]
    },
    {
     "data": {
      "image/png": "[encoded data removed]",
      "text/plain": [
       "<PIL.Image.Image image mode=RGBA size=104x40>"
      ]
     },
     "metadata": {},
     "output_type": "display_data"
    },
    {
     "data": {
      "image/png": "[encoded data removed]",
      "text/plain": [
       "<PIL.Image.Image image mode=RGBA size=96x96>"
      ]
     },
     "metadata": {},
     "output_type": "display_data"
    },
    {
     "data": {
      "image/png": "[encoded data removed]",
      "text/plain": [
       "<PIL.Image.Image image mode=RGBA size=80x80>"
      ]
     },
     "metadata": {},
     "output_type": "display_data"
    },
    {
     "data": {
      "image/png": "[encoded data removed]",
      "text/plain": [
       "<PIL.Image.Image image mode=RGBA size=80x80>"
      ]
     },
     "metadata": {},
     "output_type": "display_data"
    },
    {
     "data": {
      "image/png": "[encoded data removed]",
      "text/plain": [
       "<PIL.Image.Image image mode=RGBA size=80x80>"
      ]
     },
     "metadata": {},
     "output_type": "display_data"
    },
    {
     "data": {
      "image/png": "[encoded data removed]",
      "text/plain": [
       "<PIL.Image.Image image mode=RGBA size=72x72>"
      ]
     },
     "metadata": {},
     "output_type": "display_data"
    },
    {
     "data": {
      "image/png": "[encoded data removed]",
      "text/plain": [
       "<PIL.Image.Image image mode=RGBA size=96x96>"
      ]
     },
     "metadata": {},
     "output_type": "display_data"
    },
    {
     "data": {
      "image/png": "[encoded data removed]",
      "text/plain": [
       "<PIL.Image.Image image mode=RGBA size=104x104>"
      ]
     },
     "metadata": {},
     "output_type": "display_data"
    },
    {
     "data": {
      "image/png": "[encoded data removed]",
      "text/plain": [
       "<PIL.Image.Image image mode=RGBA size=104x104>"
      ]
     },
     "metadata": {},
     "output_type": "display_data"
    }
   ],
   "source": [
    "\n",
    "def imdisplay(im):\n",
    "  try:\n",
    "    if not sys.stdout.isatty():\n",
    "      display(im.scale(8)) # type: ignore\n",
    "      return\n",
    "  except:\n",
    "    pass\n",
    "  \n",
    "  def ansi_rgb(rgba):\n",
    "    return \"\\x1b[38;2;{};{};{}m\".format(*rgba[:3])\n",
    "  for row in np.asarray(im):\n",
    "    for cell in row:\n",
    "      if not cell[:3].any():\n",
    "        print(\"  \", end=\"\")\n",
    "      else:\n",
    "        print(f\"{ansi_rgb(cell)}[]\", end=\"\\x1b[0m\")\n",
    "    print()\n",
    "  print()\n",
    "\n",
    "shapes = read_shapes(\"pixel-fitit.png\")\n",
    "idshapes = [\n",
    "  shape.astype(bool) * i\n",
    "  for i, shape in enumerate(shapes, 1)\n",
    "]\n",
    "\n",
    "used_edges = []\n",
    "\n",
    "jnd = join(idshapes, ((0, (3, 7)), (1, (0, 0), 0)))\n",
    "imdisplay(idshape_img(idshapes[1]))\n",
    "imdisplay(idshape_img(jnd))\n",
    "\n",
    "\n",
    "def filter_edges(edges):\n",
    "  counts = Counter(map(lambda x: x[0], edges))\n",
    "  act_edges = list(filter(lambda x: counts[x[0]] == 1, edges))\n",
    "  return act_edges\n",
    "\n",
    "saves = []\n",
    "\n",
    "while len(shapes) != 1:\n",
    "  edges = get_all_edges(shapes)\n",
    "  # join(shapes, (3, (3, 5), 39, (4, 6), 0))\n",
    "\n",
    "  new_shapes = []\n",
    "  new_idshapes = []\n",
    "\n",
    "  act_edges = filter_edges(edges)\n",
    "  new_shapes, used_now_edges = join_all(shapes, act_edges)\n",
    "  used_edges.extend(used_now_edges)\n",
    "  \n",
    "  new_idshapes, used_now_edges = join_all(idshapes, used_now_edges)\n",
    "\n",
    "  shapes = new_shapes\n",
    "  idshapes = new_idshapes\n",
    "  break\n",
    "\n",
    "\n",
    "colors = np.array([range(5*13)], dtype=np.uint8)\n",
    "arr = colors.reshape((5, 13))\n",
    "imdisplay(idshape_img(arr))\n",
    "\n",
    "\n",
    "# show_img(arr)\n",
    "for shape in idshapes[:8]:\n",
    "  imdisplay(idshape_img(shape))\n",
    "\n"
   ]
  },
  {
   "cell_type": "code",
   "execution_count": 65,
   "id": "6f94a1d5",
   "metadata": {},
   "outputs": [],
   "source": [
    "import networkx as nx\n",
    "\n",
    "\n",
    "def dump_dot(g: nx.DiGraph):\n",
    "  lines = [\"digraph {\"]\n",
    "  for node in g.nodes:\n",
    "    lines.append(f'  \"{node}\";')\n",
    "  for n1, n2 in g.edges:\n",
    "    lines.append(f'  \"{n1}\" -> \"{n2}\";')\n",
    "  lines.append(\"}\")\n",
    "  return \"\\n\".join(lines)\n",
    "\n"
   ]
  },
  {
   "cell_type": "code",
   "execution_count": null,
   "id": "fbbbcd65",
   "metadata": {},
   "outputs": [
    {
     "name": "stdout",
     "output_type": "stream",
     "text": [
      "False\n"
     ]
    }
   ],
   "source": [
    "print()\n"
   ]
  }
 ],
 "metadata": {
  "kernelspec": {
   "display_name": "Python 3",
   "language": "python",
   "name": "python3"
  },
  "language_info": {
   "codemirror_mode": {
    "name": "ipython",
    "version": 3
   },
   "file_extension": ".py",
   "mimetype": "text/x-python",
   "name": "python",
   "nbconvert_exporter": "python",
   "pygments_lexer": "ipython3",
   "version": "3.8.10"
  }
 },
 "nbformat": 4,
 "nbformat_minor": 5
}
